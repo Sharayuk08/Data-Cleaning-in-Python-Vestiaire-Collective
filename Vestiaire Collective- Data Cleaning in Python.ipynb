{
 "cells": [
  {
   "cell_type": "code",
   "execution_count": 1,
   "id": "481c4514",
   "metadata": {},
   "outputs": [],
   "source": [
    "import numpy as np\n",
    "import pandas as pd\n"
   ]
  },
  {
   "cell_type": "code",
   "execution_count": 2,
   "id": "77e1be5e",
   "metadata": {},
   "outputs": [
    {
     "data": {
      "text/html": [
       "<div>\n",
       "<style scoped>\n",
       "    .dataframe tbody tr th:only-of-type {\n",
       "        vertical-align: middle;\n",
       "    }\n",
       "\n",
       "    .dataframe tbody tr th {\n",
       "        vertical-align: top;\n",
       "    }\n",
       "\n",
       "    .dataframe thead th {\n",
       "        text-align: right;\n",
       "    }\n",
       "</style>\n",
       "<table border=\"1\" class=\"dataframe\">\n",
       "  <thead>\n",
       "    <tr style=\"text-align: right;\">\n",
       "      <th></th>\n",
       "      <th>product_id</th>\n",
       "      <th>product_type</th>\n",
       "      <th>product_name</th>\n",
       "      <th>product_description</th>\n",
       "      <th>product_keywords</th>\n",
       "      <th>product_gender_target</th>\n",
       "      <th>product_category</th>\n",
       "      <th>product_season</th>\n",
       "      <th>product_condition</th>\n",
       "      <th>product_like_count</th>\n",
       "      <th>...</th>\n",
       "      <th>warehouse_name</th>\n",
       "      <th>seller_id</th>\n",
       "      <th>seller_username</th>\n",
       "      <th>usually_ships_within</th>\n",
       "      <th>seller_country</th>\n",
       "      <th>seller_products_sold</th>\n",
       "      <th>seller_num_products_listed</th>\n",
       "      <th>seller_community_rank</th>\n",
       "      <th>seller_num_followers</th>\n",
       "      <th>seller_pass_rate</th>\n",
       "    </tr>\n",
       "  </thead>\n",
       "  <tbody>\n",
       "    <tr>\n",
       "      <th>0</th>\n",
       "      <td>43247626</td>\n",
       "      <td>Wool mini skirt</td>\n",
       "      <td>Wool mini skirt Miu Miu Grey size S Internatio...</td>\n",
       "      <td>Miu Miu – Pleated mini skirt Size: 36 (S)  Wai...</td>\n",
       "      <td>Miu Miu Wool Skirts</td>\n",
       "      <td>Women</td>\n",
       "      <td>Women Clothing</td>\n",
       "      <td>Autumn / Winter</td>\n",
       "      <td>Never worn</td>\n",
       "      <td>34.0</td>\n",
       "      <td>...</td>\n",
       "      <td>Tourcoing</td>\n",
       "      <td>25775970</td>\n",
       "      <td>vitalii25775970</td>\n",
       "      <td>NaN</td>\n",
       "      <td>Germany</td>\n",
       "      <td>3.0</td>\n",
       "      <td>14.0</td>\n",
       "      <td>0.0</td>\n",
       "      <td>13.0</td>\n",
       "      <td>0.0</td>\n",
       "    </tr>\n",
       "    <tr>\n",
       "      <th>1</th>\n",
       "      <td>43247441</td>\n",
       "      <td>Jacket</td>\n",
       "      <td>Jacket Barbara Bui Navy size 42 FR in Cotton</td>\n",
       "      <td>For selling nice women's suit Barbara Bui size...</td>\n",
       "      <td>Barbara Bui Cotton Jackets</td>\n",
       "      <td>Women</td>\n",
       "      <td>Women Clothing</td>\n",
       "      <td>All seasons</td>\n",
       "      <td>Very good condition</td>\n",
       "      <td>1.0</td>\n",
       "      <td>...</td>\n",
       "      <td>Tourcoing</td>\n",
       "      <td>13698770</td>\n",
       "      <td>olivia13698770</td>\n",
       "      <td>NaN</td>\n",
       "      <td>Belgium</td>\n",
       "      <td>0.0</td>\n",
       "      <td>0.0</td>\n",
       "      <td>0.0</td>\n",
       "      <td>8.0</td>\n",
       "      <td>0.0</td>\n",
       "    </tr>\n",
       "    <tr>\n",
       "      <th>2</th>\n",
       "      <td>43246517</td>\n",
       "      <td>Wool coat</td>\n",
       "      <td>Wool coat Comme Des Garcons White size S Inter...</td>\n",
       "      <td>Magnificent boiled wool coat. I bought it in t...</td>\n",
       "      <td>Comme Des Garcons Wool Coats</td>\n",
       "      <td>Women</td>\n",
       "      <td>Women Clothing</td>\n",
       "      <td>Autumn / Winter</td>\n",
       "      <td>Very good condition</td>\n",
       "      <td>2.0</td>\n",
       "      <td>...</td>\n",
       "      <td>Tourcoing</td>\n",
       "      <td>6042365</td>\n",
       "      <td>cecilia6042365</td>\n",
       "      <td>1-2 days</td>\n",
       "      <td>Spain</td>\n",
       "      <td>58.0</td>\n",
       "      <td>69.0</td>\n",
       "      <td>0.0</td>\n",
       "      <td>62.0</td>\n",
       "      <td>96.0</td>\n",
       "    </tr>\n",
       "  </tbody>\n",
       "</table>\n",
       "<p>3 rows × 36 columns</p>\n",
       "</div>"
      ],
      "text/plain": [
       "   product_id     product_type  \\\n",
       "0    43247626  Wool mini skirt   \n",
       "1    43247441           Jacket   \n",
       "2    43246517        Wool coat   \n",
       "\n",
       "                                        product_name  \\\n",
       "0  Wool mini skirt Miu Miu Grey size S Internatio...   \n",
       "1      Jacket Barbara Bui Navy size 42 FR in Cotton    \n",
       "2  Wool coat Comme Des Garcons White size S Inter...   \n",
       "\n",
       "                                 product_description  \\\n",
       "0  Miu Miu – Pleated mini skirt Size: 36 (S)  Wai...   \n",
       "1  For selling nice women's suit Barbara Bui size...   \n",
       "2  Magnificent boiled wool coat. I bought it in t...   \n",
       "\n",
       "               product_keywords product_gender_target product_category  \\\n",
       "0           Miu Miu Wool Skirts                 Women   Women Clothing   \n",
       "1    Barbara Bui Cotton Jackets                 Women   Women Clothing   \n",
       "2  Comme Des Garcons Wool Coats                 Women   Women Clothing   \n",
       "\n",
       "    product_season    product_condition  product_like_count  ...  \\\n",
       "0  Autumn / Winter           Never worn                34.0  ...   \n",
       "1      All seasons  Very good condition                 1.0  ...   \n",
       "2  Autumn / Winter  Very good condition                 2.0  ...   \n",
       "\n",
       "   warehouse_name  seller_id  seller_username  usually_ships_within  \\\n",
       "0       Tourcoing   25775970  vitalii25775970                   NaN   \n",
       "1       Tourcoing   13698770   olivia13698770                   NaN   \n",
       "2       Tourcoing    6042365   cecilia6042365              1-2 days   \n",
       "\n",
       "   seller_country  seller_products_sold seller_num_products_listed  \\\n",
       "0         Germany                   3.0                       14.0   \n",
       "1         Belgium                   0.0                        0.0   \n",
       "2           Spain                  58.0                       69.0   \n",
       "\n",
       "  seller_community_rank seller_num_followers seller_pass_rate  \n",
       "0                   0.0                 13.0              0.0  \n",
       "1                   0.0                  8.0              0.0  \n",
       "2                   0.0                 62.0             96.0  \n",
       "\n",
       "[3 rows x 36 columns]"
      ]
     },
     "execution_count": 2,
     "metadata": {},
     "output_type": "execute_result"
    }
   ],
   "source": [
    "df= pd.read_csv(\"C:/Sharayu Portfolio/Sharayu Project/Vestiaire Fashion Data/vestiaire.csv/vestiaire.csv\")\n",
    "df.head(3)"
   ]
  },
  {
   "cell_type": "code",
   "execution_count": 3,
   "id": "5a9ec545",
   "metadata": {},
   "outputs": [
    {
     "data": {
      "text/plain": [
       "(900514, 36)"
      ]
     },
     "execution_count": 3,
     "metadata": {},
     "output_type": "execute_result"
    }
   ],
   "source": [
    "df.shape"
   ]
  },
  {
   "cell_type": "code",
   "execution_count": 4,
   "id": "e046fd7d",
   "metadata": {},
   "outputs": [
    {
     "data": {
      "text/plain": [
       "168295"
      ]
     },
     "execution_count": 4,
     "metadata": {},
     "output_type": "execute_result"
    }
   ],
   "source": [
    "# Count total rows\n",
    "total_rows = len(df)\n",
    "\n",
    "# Count rows with at least one null value\n",
    "rows_with_null = df[df.isnull().any(axis=1)].shape[0]\n",
    "\n",
    "rows_with_null\n"
   ]
  },
  {
   "cell_type": "code",
   "execution_count": 5,
   "id": "74b6a7fb",
   "metadata": {},
   "outputs": [
    {
     "name": "stdout",
     "output_type": "stream",
     "text": [
      "Percentage of data that would be lost: 18.69%\n"
     ]
    }
   ],
   "source": [
    "# Calculate percentage of data that would be lost\n",
    "percentage_lost = (rows_with_null / total_rows) * 100\n",
    "\n",
    "print(f\"Percentage of data that would be lost: {percentage_lost:.2f}%\")"
   ]
  },
  {
   "cell_type": "markdown",
   "id": "842d54ee",
   "metadata": {},
   "source": [
    "### If we drop the null values. We will end of losing 18.69% of the data. As this is a significant amount, we will consider performing imputations for the missing values. "
   ]
  },
  {
   "cell_type": "markdown",
   "id": "d6461737",
   "metadata": {},
   "source": [
    "### Lets calculate the percentage of null values for each column to check which columns to perform imputations on"
   ]
  },
  {
   "cell_type": "code",
   "execution_count": 6,
   "id": "2d5ef78d",
   "metadata": {},
   "outputs": [
    {
     "name": "stdout",
     "output_type": "stream",
     "text": [
      "product_id                     0.000000\n",
      "product_type                   0.000000\n",
      "product_name                   0.000000\n",
      "product_description            0.000777\n",
      "product_keywords               0.131369\n",
      "product_gender_target          0.000000\n",
      "product_category               0.131369\n",
      "product_season                 0.000222\n",
      "product_condition              0.000000\n",
      "product_like_count             0.000000\n",
      "sold                           0.000000\n",
      "reserved                       0.000000\n",
      "available                      0.000000\n",
      "in_stock                       0.000000\n",
      "should_be_gone                 0.000000\n",
      "brand_id                       0.000000\n",
      "brand_name                     0.000000\n",
      "brand_url                      0.000000\n",
      "product_material               0.000444\n",
      "product_color                  0.000111\n",
      "price_usd                      0.000000\n",
      "seller_price                   0.000000\n",
      "seller_earning                 0.000000\n",
      "seller_badge                   0.000000\n",
      "has_cross_border_fees          1.525351\n",
      "buyers_fees                    1.525351\n",
      "warehouse_name                 0.000000\n",
      "seller_id                      0.000000\n",
      "seller_username                0.004331\n",
      "usually_ships_within          17.189183\n",
      "seller_country                 0.000000\n",
      "seller_products_sold           0.000000\n",
      "seller_num_products_listed     0.000000\n",
      "seller_community_rank          0.000000\n",
      "seller_num_followers           0.000000\n",
      "seller_pass_rate               0.000000\n",
      "dtype: float64\n"
     ]
    }
   ],
   "source": [
    "# Calculate the percentage of null values for each column\n",
    "null_percentage = df.isnull().mean() * 100\n",
    "\n",
    "# Display the percentages\n",
    "print(null_percentage)"
   ]
  },
  {
   "cell_type": "markdown",
   "id": "cef34162",
   "metadata": {},
   "source": [
    "### We will perform imputations on the following columns: usually_ships_within , product_category, product_keywords, buyers_fees and has_cross_border_fees "
   ]
  },
  {
   "cell_type": "markdown",
   "id": "a9c36d2a",
   "metadata": {},
   "source": [
    "### For the categorical columns we will fill in missing values using mode and for buyer_fees we will use median"
   ]
  },
  {
   "cell_type": "code",
   "execution_count": 7,
   "id": "6c8c9628",
   "metadata": {},
   "outputs": [],
   "source": [
    "df['usually_ships_within'] = df['usually_ships_within'].fillna(df['usually_ships_within'].mode()[0])\n",
    "df['product_category'] = df['product_category'].fillna(df['product_category'].mode()[0])\n",
    "df['product_keywords'] = df['product_keywords'].fillna(df['product_keywords'].mode()[0])"
   ]
  },
  {
   "cell_type": "code",
   "execution_count": 8,
   "id": "513f43b4",
   "metadata": {},
   "outputs": [],
   "source": [
    "df['buyers_fees'] = df['buyers_fees'].fillna(df['buyers_fees'].median())"
   ]
  },
  {
   "cell_type": "markdown",
   "id": "044edcf6",
   "metadata": {},
   "source": [
    "### To perform imputation on column 'has_cross_border_fees' we will first check the values in this column"
   ]
  },
  {
   "cell_type": "code",
   "execution_count": 9,
   "id": "28c80a62",
   "metadata": {},
   "outputs": [
    {
     "data": {
      "text/plain": [
       "has_cross_border_fees\n",
       "True                     886778\n",
       "dtype: int64"
      ]
     },
     "execution_count": 9,
     "metadata": {},
     "output_type": "execute_result"
    }
   ],
   "source": [
    "df[['has_cross_border_fees']].value_counts()"
   ]
  },
  {
   "cell_type": "markdown",
   "id": "c083a7eb",
   "metadata": {},
   "source": [
    "### Because all existing values are True. Therefore, for any missing values in this column, we will replace them with 'False'."
   ]
  },
  {
   "cell_type": "code",
   "execution_count": 10,
   "id": "f2986430",
   "metadata": {},
   "outputs": [],
   "source": [
    "df['has_cross_border_fees'].fillna(False, inplace=True)"
   ]
  },
  {
   "cell_type": "markdown",
   "id": "d01a542a",
   "metadata": {},
   "source": [
    "### Verify the imputation"
   ]
  },
  {
   "cell_type": "code",
   "execution_count": 11,
   "id": "b4d8aed5",
   "metadata": {},
   "outputs": [
    {
     "name": "stdout",
     "output_type": "stream",
     "text": [
      "usually_ships_within: 0 null values\n",
      "product_category: 0 null values\n",
      "product_keywords: 0 null values\n",
      "buyers_fees: 0 null values\n",
      "has_cross_border_fees: 0 null values\n"
     ]
    }
   ],
   "source": [
    "columns_imputed = ['usually_ships_within', 'product_category', 'product_keywords', 'buyers_fees', 'has_cross_border_fees']\n",
    "\n",
    "# Check null values in these columns\n",
    "for column in columns_imputed:\n",
    "    null_count = df[column].isnull().sum()\n",
    "    print(f\"{column}: {null_count} null values\")"
   ]
  },
  {
   "cell_type": "code",
   "execution_count": 12,
   "id": "809dd8b7",
   "metadata": {},
   "outputs": [
    {
     "name": "stdout",
     "output_type": "stream",
     "text": [
      "Percentage of missing values: 0.0059\n"
     ]
    }
   ],
   "source": [
    "print(f'Percentage of missing values: {(df.isna().mean() * 100).sum().round(4)}')"
   ]
  },
  {
   "cell_type": "markdown",
   "id": "10f26f5a",
   "metadata": {},
   "source": [
    "### Now we can drop the remaining null values"
   ]
  },
  {
   "cell_type": "code",
   "execution_count": 13,
   "id": "2e5044d0",
   "metadata": {},
   "outputs": [],
   "source": [
    "df.dropna(inplace=True)"
   ]
  },
  {
   "cell_type": "code",
   "execution_count": 14,
   "id": "6293f684",
   "metadata": {},
   "outputs": [
    {
     "name": "stdout",
     "output_type": "stream",
     "text": [
      "Percentage of missing values: 0.0\n"
     ]
    }
   ],
   "source": [
    "print(f'Percentage of missing values: {(df.isna().mean() * 100).sum()}')"
   ]
  },
  {
   "cell_type": "markdown",
   "id": "636b4315",
   "metadata": {},
   "source": [
    "### Now our dataset is free of null values"
   ]
  },
  {
   "cell_type": "code",
   "execution_count": 15,
   "id": "ac3c5303",
   "metadata": {},
   "outputs": [
    {
     "data": {
      "text/plain": [
       "(900461, 36)"
      ]
     },
     "execution_count": 15,
     "metadata": {},
     "output_type": "execute_result"
    }
   ],
   "source": [
    "df.shape"
   ]
  },
  {
   "cell_type": "markdown",
   "id": "8d2b2e76",
   "metadata": {},
   "source": [
    "### Check for duplicates"
   ]
  },
  {
   "cell_type": "code",
   "execution_count": 16,
   "id": "6e75381b",
   "metadata": {},
   "outputs": [
    {
     "name": "stdout",
     "output_type": "stream",
     "text": [
      "0\n"
     ]
    }
   ],
   "source": [
    "print(df.duplicated().sum())"
   ]
  },
  {
   "cell_type": "markdown",
   "id": "f9c5fa8c",
   "metadata": {},
   "source": [
    "### There are not any duplicate values. Now we can use this dataset for our analysis"
   ]
  },
  {
   "cell_type": "markdown",
   "id": "74c02495",
   "metadata": {},
   "source": [
    "### Download the cleaned dataset"
   ]
  },
  {
   "cell_type": "code",
   "execution_count": 20,
   "id": "4bd0a707",
   "metadata": {},
   "outputs": [
    {
     "name": "stdout",
     "output_type": "stream",
     "text": [
      "Dataset has been saved as 'C:\\Sharayu Portfolio\\Sharayu Project\\Vestiaire Fashion Data\\Vers Clean Data\\Vers Cleaned Data.csv'\n"
     ]
    }
   ],
   "source": [
    "# Specify the path where you want to save the file\n",
    "file_path = 'C:\\Sharayu Portfolio\\Sharayu Project\\Vestiaire Fashion Data\\Vers Clean Data\\Vers Cleaned Data.csv'\n",
    "\n",
    "# Save the DataFrame as a CSV file\n",
    "df.to_csv(file_path, index=False)\n",
    "\n",
    "print(f\"Dataset has been saved as '{file_path}'\")\n"
   ]
  },
  {
   "cell_type": "code",
   "execution_count": null,
   "id": "8d8b7a55",
   "metadata": {},
   "outputs": [],
   "source": []
  }
 ],
 "metadata": {
  "kernelspec": {
   "display_name": "Python 3 (ipykernel)",
   "language": "python",
   "name": "python3"
  },
  "language_info": {
   "codemirror_mode": {
    "name": "ipython",
    "version": 3
   },
   "file_extension": ".py",
   "mimetype": "text/x-python",
   "name": "python",
   "nbconvert_exporter": "python",
   "pygments_lexer": "ipython3",
   "version": "3.9.13"
  }
 },
 "nbformat": 4,
 "nbformat_minor": 5
}
